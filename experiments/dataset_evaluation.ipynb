{
 "cells": [
  {
   "cell_type": "code",
   "execution_count": null,
   "source": [
    "# Personally I had to add the root folder of the repo to the sys.path.  If certain imports do not work you should uncomment and set the following.\n",
    "# import sys\n",
    "# sys.path.append('/root/of/repo/folder/')"
   ],
   "outputs": [],
   "metadata": {}
  },
  {
   "cell_type": "markdown",
   "source": [
    "# Dataset Evaluation"
   ],
   "metadata": {}
  },
  {
   "cell_type": "markdown",
   "source": [
    "In this notebook we explore and plot the characteristics of the collected dataset.  Make sure that you have used the `/dataset/dataset_analyzer.py` as we depend on its output."
   ],
   "metadata": {}
  },
  {
   "cell_type": "code",
   "execution_count": null,
   "source": [
    "page_map_file = \"../dataset/out/dataset-pages-stats.csv\"\n",
    "resource_file = \"../dataset/out/dataset-resources-stats.csv\""
   ],
   "outputs": [],
   "metadata": {}
  },
  {
   "cell_type": "markdown",
   "source": [
    "Read both statistics files."
   ],
   "metadata": {}
  },
  {
   "cell_type": "code",
   "execution_count": null,
   "source": [
    "import pandas as pd\n",
    "\n",
    "resource_data = pd.read_csv(resource_file, delimiter=';')\n",
    "resource_data = resource_data[resource_data['size'] > 0]\n",
    "\n",
    "page_data = pd.read_csv(page_map_file, delimiter=';')"
   ],
   "outputs": [],
   "metadata": {}
  },
  {
   "cell_type": "markdown",
   "source": [
    "## Resource Size Distribution\n",
    "\n",
    "Here we plot the distribution of resource sizes using a histogram."
   ],
   "metadata": {}
  },
  {
   "cell_type": "code",
   "execution_count": null,
   "source": [
    "resource_sizes = list(resource_data['size'])"
   ],
   "outputs": [],
   "metadata": {}
  },
  {
   "cell_type": "code",
   "execution_count": null,
   "source": [
    "from palettable.colorbrewer.qualitative import Paired_10\n",
    "colors = list(Paired_10.mpl_colors) + [ '#9CA3AF' ]"
   ],
   "outputs": [],
   "metadata": {}
  },
  {
   "cell_type": "code",
   "execution_count": null,
   "source": [
    "import matplotlib.pyplot as plt\n",
    "import experiments.plotter.neat_plotter\n",
    "\n",
    "plt.figure(num=None, figsize=(14,4), dpi=300)\n",
    "plt.grid(which='major', axis='y')\n",
    "plt.hist(resource_sizes, bins=200)\n",
    "plt.yscale('log')\n",
    "plt.ylabel('No. of resources.')\n",
    "plt.xlabel('Resource Size (bytes)')\n",
    "plt.title('Distribution of Resource Size')\n",
    "plt.show()"
   ],
   "outputs": [],
   "metadata": {}
  },
  {
   "cell_type": "markdown",
   "source": [
    "## Resource Violin Plot"
   ],
   "metadata": {}
  },
  {
   "cell_type": "code",
   "execution_count": null,
   "source": [
    "fig, ax = plt.subplots(1, figsize=(7, 7), dpi=300)\n",
    "resource_by_type = resource_data.groupby('type')\n",
    "parts = ax.violinplot([ g['size'] for _, g in resource_by_type], vert=False, widths=0.8)\n",
    "for i, pc in enumerate(parts['bodies']):\n",
    "    pc.set_facecolor(colors[i])\n",
    "    pc.set_alpha(0.5)\n",
    "ax.set_xscale('log')\n",
    "ax.xaxis.grid(True, which='both')\n",
    "ax.set_yticks(range(len(resource_by_type) + 1))\n",
    "ax.set_yticklabels([ \"\" ] + [ f\"{n}\\n({round(len(g)/len(resource_data) * 10000)/100}%, {round(sum(g['size'])/sum(resource_data['size']) * 10000)/100}%)\" for n, g in resource_by_type ])\n",
    "ax.set_title(\"File size ditribution by type\")\n",
    "ax.set_xlabel(\"File size (bytes)\")"
   ],
   "outputs": [],
   "metadata": {}
  },
  {
   "cell_type": "code",
   "execution_count": null,
   "source": [
    "fig, ax = plt.subplots(1, figsize=(7, 7), dpi=300)\n",
    "ax.yaxis.grid(which='both', linestyle='dashed')\n",
    "ax.xaxis.grid(which='both', linestyle='dashed')\n",
    "ax.set_xscale('log')\n",
    "ax.hist(page_data['size'], page_data['no_resources'], marker=\".\", alpha=0.25)\n",
    "ax.set_title(\"Page Size vs No. Resources\")\n",
    "ax.set_ylabel(\"No. Resources\")\n",
    "ax.set_xlabel(\"Page Size (bytes)\")"
   ],
   "outputs": [],
   "metadata": {}
  }
 ],
 "metadata": {
  "orig_nbformat": 4,
  "language_info": {
   "name": "python",
   "version": "3.9.7",
   "mimetype": "text/x-python",
   "codemirror_mode": {
    "name": "ipython",
    "version": 3
   },
   "pygments_lexer": "ipython3",
   "nbconvert_exporter": "python",
   "file_extension": ".py"
  },
  "kernelspec": {
   "name": "python3",
   "display_name": "Python 3.9.7 64-bit ('venv': venv)"
  },
  "interpreter": {
   "hash": "747677e8a21178563597d17909e53be1f2d30ac6bfe5206dd49919fb9b7c0458"
  }
 },
 "nbformat": 4,
 "nbformat_minor": 2
}