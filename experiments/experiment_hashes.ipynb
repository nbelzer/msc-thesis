{
 "cells": [
  {
   "cell_type": "code",
   "execution_count": null,
   "source": [
    "# Personally I had to add the root folder of the repo to the sys.path.  If certain imports do not work you should uncomment and set the following.\n",
    "# import sys\n",
    "# sys.path.append('/root/of/repo/folder/')"
   ],
   "outputs": [],
   "metadata": {}
  },
  {
   "cell_type": "markdown",
   "source": [
    "# Hash Experiment\n",
    "\n",
    "In this experiment we evaluate what kind of uniformity we can expect when using the built-in SipHash in Python.  To use the hash function as a load balancer we require it to uniformly distribute our requests accross different nodes."
   ],
   "metadata": {}
  },
  {
   "cell_type": "code",
   "execution_count": null,
   "source": [
    "import matplotlib.pyplot as plt\n",
    "from matplotlib import colors\n",
    "from matplotlib.ticker import PercentFormatter\n",
    "from palettable.colorbrewer.sequential import YlGnBu_9\n",
    "colors = list(reversed(YlGnBu_9.mpl_colors))\n",
    "\n",
    "import experiments.plotter.neat_plotter\n",
    "from random import random"
   ],
   "outputs": [],
   "metadata": {}
  },
  {
   "cell_type": "code",
   "execution_count": null,
   "source": [
    "from experiments.utils import read_resource_map\n",
    "\n",
    "resource_file = \"../dataset/out/dataset-resources-stats.csv\"\n",
    "resource_map = read_resource_map(resource_file)\n",
    "identifiers = list(resource_map.keys())"
   ],
   "outputs": [],
   "metadata": {}
  },
  {
   "cell_type": "code",
   "execution_count": null,
   "source": [
    "def take_fraction_of_random_subset(s, fraction=0.5):\n",
    "    return take_random_subset(s, lambda x: random() < fraction)\n",
    "\n",
    "def take_random_subset(s, condition=lambda x: random() < 0.5):\n",
    "    return [ i for i in s if condition(i) ]\n",
    "\n",
    "def hash_set(s):\n",
    "    return [ i.__hash__() for i in s ]\n",
    "\n",
    "def select_bin(identifier, no_bins=14):\n",
    "    return identifier.__hash__() % no_bins"
   ],
   "outputs": [],
   "metadata": {}
  },
  {
   "cell_type": "markdown",
   "source": [
    "## Collisions\n",
    "First we see if we can find any collisions between the hashes for our content."
   ],
   "metadata": {}
  },
  {
   "cell_type": "code",
   "execution_count": null,
   "source": [
    "hashes = {}\n",
    "print(\"Testing for collisions...\")\n",
    "for identifier in identifiers:\n",
    "    h = identifier.__hash__()\n",
    "    if h in hashes:\n",
    "        collision = True\n",
    "    else:\n",
    "        collision = False\n",
    "        hashes[h] = set()\n",
    "        hashes[h].add(identifier)\n",
    "    if collision and len(hashes[h]) > 1:\n",
    "        print(f\"{h}: {hashes[h]}\")\n",
    "print(\"Done\")"
   ],
   "outputs": [],
   "metadata": {}
  },
  {
   "cell_type": "markdown",
   "source": [
    "## Distribution\n",
    "We then generate a number of subsets that we will then apply the hash function over, by taking subsets with a smaller fraction we can evaluate whether smaller subsets will have a less uniform distribution."
   ],
   "metadata": {}
  },
  {
   "cell_type": "code",
   "execution_count": null,
   "source": [
    "no_subsets = 8\n",
    "no_bins = 14\n",
    "subsets = []\n",
    "hashed_subsets = []\n",
    "for i in range(no_subsets):\n",
    "    subset = take_fraction_of_random_subset(identifiers, fraction=(i + 1)/no_subsets)\n",
    "    hashed_subset = hash_set(subset)\n",
    "    subsets.append(subset)\n",
    "    hashed_subsets.append(hashed_subset)"
   ],
   "outputs": [],
   "metadata": {}
  },
  {
   "cell_type": "markdown",
   "source": [
    "We then plot these subsets in bins using a histogram."
   ],
   "metadata": {}
  },
  {
   "cell_type": "code",
   "execution_count": null,
   "source": [
    "fig, axs = plt.subplots(1, 1, tight_layout=True, figsize=(14,4))\n",
    "axs.xaxis.grid(which='both', linestyle='dashed')\n",
    "for idx, s in enumerate(reversed(hashed_subsets)):\n",
    "    _, bins, _ = axs.hist(s, bins=no_bins, label=f\"{(no_subsets - idx)/no_subsets * 100}%\", color=colors[idx])\n",
    "\n",
    "axs.set_xticks(bins, minor=True)\n",
    "axs.set_xticklabels([\"\"] * len(bins), minor=True)\n",
    "axs.set_xticks([bins[0], 0, bins[-1]])\n",
    "\n",
    "axs.yaxis.set_major_formatter(PercentFormatter(xmax=len(hashes)))\n",
    "\n",
    "axs.legend(title=\"Subset Size\", loc='lower right')\n",
    "axs.set_title(\"Distribution of hashed item identifiers.\")\n",
    "axs.set_ylabel(\"Percentage of items in bin\")\n",
    "axs.set_xlabel(\"Hashed Value\")"
   ],
   "outputs": [],
   "metadata": {}
  },
  {
   "cell_type": "markdown",
   "source": [
    "## Hash Byte Distribution\n",
    "\n",
    "We then take a look at the distribution of the bytes instead to see if this also follows a uniform distribution.  This is not guaranteed by the hash function so we expect some difference."
   ],
   "metadata": {}
  },
  {
   "cell_type": "code",
   "execution_count": null,
   "source": [
    "subset_bytes = []\n",
    "\n",
    "for subset in subsets:\n",
    "    byte_distribution = [0] * no_bins\n",
    "    for resource in subset:\n",
    "        byte_distribution[select_bin(resource, no_bins)] += resource_map.get(resource, 0)\n",
    "    subset_bytes.append(byte_distribution)"
   ],
   "outputs": [],
   "metadata": {}
  },
  {
   "cell_type": "code",
   "execution_count": null,
   "source": [
    "fig, axs = plt.subplots(1, 1, tight_layout=True, figsize=(14,4), dpi=300)\n",
    "# axs.xaxis.grid(which='both', linestyle='dashed')\n",
    "for idx, s in enumerate(reversed(subset_bytes)):\n",
    "    bars = axs.bar(range(no_bins), s, width=1, label=f\"{(no_subsets - idx)/no_subsets * 100}%\", color=colors[idx])\n",
    "    for bar in bars:\n",
    "        bar.set_edgecolor('#EEEEEE')\n",
    "        bar.set_linewidth(1)\n",
    "\n",
    "# axs.set_xticks(bins, minor=False)\n",
    "# axs.set_xticklabels([\"\"] * len(bins), minor=True)\n",
    "axs.set_xticks(range(no_bins))\n",
    "\n",
    "# axs.yaxis.set_major_formatter(PercentFormatter(xmax=len(hashes)))\n",
    "\n",
    "axs.legend(title=\"Subset Size\", loc='lower right')\n",
    "axs.set_title(\"Distribution of bytes by hashed identifiers.\")\n",
    "axs.set_ylabel(\"Bytes assigned to bin\")\n",
    "axs.set_xlabel(\"Bin Identifier\")"
   ],
   "outputs": [],
   "metadata": {}
  }
 ],
 "metadata": {
  "orig_nbformat": 4,
  "language_info": {
   "name": "python",
   "version": "3.9.7",
   "mimetype": "text/x-python",
   "codemirror_mode": {
    "name": "ipython",
    "version": 3
   },
   "pygments_lexer": "ipython3",
   "nbconvert_exporter": "python",
   "file_extension": ".py"
  },
  "kernelspec": {
   "name": "python3",
   "display_name": "Python 3.9.7 64-bit ('venv': venv)"
  },
  "interpreter": {
   "hash": "747677e8a21178563597d17909e53be1f2d30ac6bfe5206dd49919fb9b7c0458"
  }
 },
 "nbformat": 4,
 "nbformat_minor": 2
}